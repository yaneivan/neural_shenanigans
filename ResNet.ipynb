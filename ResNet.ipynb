{
 "cells": [
  {
   "cell_type": "code",
   "execution_count": 28,
   "id": "720abdd9",
   "metadata": {},
   "outputs": [],
   "source": [
    "from datasets import load_dataset\n",
    "from tqdm import tqdm\n",
    "import torch\n",
    "   \n",
    "import torch.nn as nn\n",
    "\n",
    "device = torch.device('cuda' if torch.cuda.is_available() else 'cpu')"
   ]
  },
  {
   "cell_type": "code",
   "execution_count": 29,
   "id": "5f46ce55",
   "metadata": {},
   "outputs": [],
   "source": [
    "# dataset = load_dataset('cifar10', cache_dir='/data')\n",
    "# dataset.set_format(type='torch')\n",
    "# dataset\n"
   ]
  },
  {
   "cell_type": "code",
   "execution_count": 30,
   "id": "0ca7c108",
   "metadata": {},
   "outputs": [],
   "source": [
    "# dataloader = torch.utils.data.DataLoader(dataset['train'], batch_size=8)"
   ]
  },
  {
   "cell_type": "code",
   "execution_count": 31,
   "id": "9351542c",
   "metadata": {},
   "outputs": [],
   "source": [
    "# dataset['train']."
   ]
  },
  {
   "cell_type": "code",
   "execution_count": null,
   "id": "32b1311f",
   "metadata": {},
   "outputs": [],
   "source": []
  },
  {
   "cell_type": "code",
   "execution_count": 59,
   "id": "080468f8",
   "metadata": {},
   "outputs": [
    {
     "name": "stdout",
     "output_type": "stream",
     "text": [
      "Files already downloaded and verified\n"
     ]
    }
   ],
   "source": [
    "from torchvision import datasets \n",
    "from torchvision import transforms\n",
    "#transform = transforms.Compose([transforms.Resize((224,224)),  transforms.ToTensor()])\n",
    "transform = transforms.Compose([  transforms.ToTensor(), transforms.Lambda(lambda x: x.to(device))])\n",
    "to_device_transform = transforms.Compose([\n",
    "    \n",
    "    transforms.Lambda(lambda x: x.to(device))])\n",
    "\n",
    "dataset = datasets.CIFAR10(root='data', train = True, download=True, transform = transform)#, target_transform=to_device_transform)\n",
    "#dataloader = data_loader(data_dir='./data', batch_size=32)\n",
    "dataloader = torch.utils.data.DataLoader(dataset, batch_size=32, shuffle=True)"
   ]
  },
  {
   "cell_type": "code",
   "execution_count": 60,
   "id": "17afc38f",
   "metadata": {},
   "outputs": [],
   "source": [
    "class ResidualBlock(nn.Module):\n",
    "    def __init__(self, in_channels, out_channels, stride = 1, downsample = None):\n",
    "        super(ResidualBlock, self).__init__()\n",
    "        self.conv1 = nn.Sequential(\n",
    "            nn.Conv2d(in_channels, out_channels, kernel_size=3, stride = stride, padding = 1),  #outputs the same size on default\n",
    "            nn.BatchNorm2d(out_channels),\n",
    "            nn.ReLU()           \n",
    "        )\n",
    "        self.conv2 = nn.Sequential(\n",
    "            nn.Conv2d(out_channels, out_channels, kernel_size = 3, stride = 1, padding = 1 ),  #outputs the same size\n",
    "        nn.BatchNorm2d(out_channels)\n",
    "        ) \n",
    "        self.downsample = downsample\n",
    "        self.relu = nn.ReLU()\n",
    "        self.out_channels = out_channels\n",
    "        \n",
    "    def forward(self, x):\n",
    "        residual = x\n",
    "        out = self.conv1(x)\n",
    "        out = self.conv2(out)\n",
    "        if (self.downsample):\n",
    "            residual = self.downsample(x)\n",
    "        out += residual\n",
    "        out = self.relu(out)\n",
    "        return out"
   ]
  },
  {
   "cell_type": "code",
   "execution_count": 89,
   "id": "2bc34339",
   "metadata": {},
   "outputs": [],
   "source": [
    "class ResNet(nn.Module):\n",
    "    def __init__(self, block, layers, num_classes=10):\n",
    "        super(ResNet, self).__init__()\n",
    "        self.inplanes = 64\n",
    "        self.conv1 = nn.Sequential(\n",
    "            nn.Conv2d(3, 64, kernel_size=7, stride = 2, padding = 3),\n",
    "            nn.BatchNorm2d(64),\n",
    "            nn.ReLU())\n",
    "        self.maxpool = nn.MaxPool2d(kernel_size=3, stride=2, padding=1)\n",
    "        self.layer0 = self._make_layer(block, 64, layers[0], stride=1)\n",
    "        self.layer1 = self._make_layer(block, 128, layers[1], stride = 2)\n",
    "        self.layer2 = self._make_layer(block, 256, layers[2], stride = 2)\n",
    "        self.layer3 = self._make_layer(block, 512, layers[3], stride = 2)\n",
    "        \n",
    "        self.avgpool = nn.AvgPool2d(7, stride=1)\n",
    "        self.fc = nn.Linear(512, num_classes)\n",
    "        \n",
    "        \n",
    "        self.last_conv = torch.nn.Conv2d(in_channels = 512, out_channels = num_classes, kernel_size = 1)\n",
    "        \n",
    "        \n",
    "    def forward(self, x):\n",
    "        x = self.conv1(x)\n",
    "        x = self.maxpool(x)\n",
    "        \n",
    "        x = self.layer0(x)\n",
    "        x = self.layer1(x)\n",
    "        x = self.layer2(x)\n",
    "        x = self.layer3(x)\n",
    "        \n",
    "        #print('before avgpool shape is', x.shape)\n",
    "        \n",
    "        #x = self.avgpool(x)\n",
    "        #\n",
    "        \n",
    "        \n",
    "        #x = self.fc(x)\n",
    "        x = self.last_conv(x)\n",
    "        \n",
    "        x = x.view(x.size(0), -1)\n",
    "        return x\n",
    "        \n",
    "    \n",
    "    \n",
    "    \n",
    "    def _make_layer(self, block, planes, blocks, stride=1):\n",
    "        downsample = None\n",
    "        if stride != 1 or self.inplanes != planes:\n",
    "            downsample = nn.Sequential(nn.Conv2d(self.inplanes, planes, kernel_size=1, stride=stride), \n",
    "                                        nn.BatchNorm2d(planes)\n",
    "                                    )\n",
    "        layers = []\n",
    "        layers.append(block(self.inplanes, planes, stride, downsample))\n",
    "        self.inplanes = planes\n",
    "        for i in range(1, blocks):\n",
    "            layers.append(block(self.inplanes, planes))\n",
    "            \n",
    "        return nn.Sequential(*layers)\n",
    "    "
   ]
  },
  {
   "cell_type": "code",
   "execution_count": null,
   "id": "4f7a5890",
   "metadata": {},
   "outputs": [],
   "source": []
  },
  {
   "cell_type": "code",
   "execution_count": 90,
   "id": "4846c6e0",
   "metadata": {},
   "outputs": [],
   "source": [
    "num_classes = 10\n",
    "num_epochs = 20\n",
    "batch_size = 16\n",
    "learining_rate = 0.001\n",
    "model = ResNet(ResidualBlock, [3, 4, 6, 3]).to(device)\n",
    "\n",
    "criterion = nn.CrossEntropyLoss().to(device)\n",
    "optimizer = torch.optim.SGD(model.parameters(), lr=learining_rate, weight_decay = 0.001, momentum = 0.9)\n",
    "\n",
    "total_step = len(dataset)"
   ]
  },
  {
   "cell_type": "code",
   "execution_count": 94,
   "id": "461aec8a",
   "metadata": {},
   "outputs": [
    {
     "name": "stderr",
     "output_type": "stream",
     "text": [
      "  0%|                                                                                         | 0/1563 [00:00<?, ?it/s]C:\\Users\\admin\\AppData\\Local\\Temp\\ipykernel_12508\\795189681.py:6: UserWarning: To copy construct from a tensor, it is recommended to use sourceTensor.clone().detach() or sourceTensor.clone().detach().requires_grad_(True), rather than torch.tensor(sourceTensor).\n",
      "  labels = torch.tensor(labels).to(device)\n",
      "100%|██████████████████████████████████████████████████████████████████████████████| 1563/1563 [00:41<00:00, 37.73it/s]\n",
      "100%|██████████████████████████████████████████████████████████████████████████████| 1563/1563 [00:41<00:00, 37.71it/s]\n",
      "100%|██████████████████████████████████████████████████████████████████████████████| 1563/1563 [00:41<00:00, 37.74it/s]\n",
      "100%|██████████████████████████████████████████████████████████████████████████████| 1563/1563 [00:41<00:00, 37.72it/s]\n",
      "100%|██████████████████████████████████████████████████████████████████████████████| 1563/1563 [00:41<00:00, 37.67it/s]\n",
      "100%|██████████████████████████████████████████████████████████████████████████████| 1563/1563 [00:41<00:00, 37.68it/s]\n",
      "100%|██████████████████████████████████████████████████████████████████████████████| 1563/1563 [00:41<00:00, 37.65it/s]\n",
      "100%|██████████████████████████████████████████████████████████████████████████████| 1563/1563 [00:41<00:00, 37.65it/s]\n",
      "100%|██████████████████████████████████████████████████████████████████████████████| 1563/1563 [00:41<00:00, 37.66it/s]\n",
      "100%|██████████████████████████████████████████████████████████████████████████████| 1563/1563 [00:41<00:00, 37.67it/s]\n",
      "100%|██████████████████████████████████████████████████████████████████████████████| 1563/1563 [00:41<00:00, 37.65it/s]\n",
      "100%|██████████████████████████████████████████████████████████████████████████████| 1563/1563 [00:41<00:00, 37.67it/s]\n",
      "100%|██████████████████████████████████████████████████████████████████████████████| 1563/1563 [00:41<00:00, 37.66it/s]\n",
      "100%|██████████████████████████████████████████████████████████████████████████████| 1563/1563 [00:41<00:00, 37.65it/s]\n",
      "100%|██████████████████████████████████████████████████████████████████████████████| 1563/1563 [00:41<00:00, 37.65it/s]\n",
      "100%|██████████████████████████████████████████████████████████████████████████████| 1563/1563 [00:41<00:00, 37.65it/s]\n",
      "100%|██████████████████████████████████████████████████████████████████████████████| 1563/1563 [00:41<00:00, 37.65it/s]\n",
      "100%|██████████████████████████████████████████████████████████████████████████████| 1563/1563 [00:41<00:00, 37.64it/s]\n",
      "100%|██████████████████████████████████████████████████████████████████████████████| 1563/1563 [00:41<00:00, 37.63it/s]\n",
      "100%|██████████████████████████████████████████████████████████████████████████████| 1563/1563 [00:41<00:00, 37.64it/s]\n"
     ]
    }
   ],
   "source": [
    "for epoch in range(num_epochs):\n",
    "    for i, (images, labels) in enumerate(tqdm(dataloader)):\n",
    "        \n",
    "        \n",
    "        output = model(images)\n",
    "        labels = torch.tensor(labels).to(device)\n",
    "\n",
    "        \n",
    "        #print(labels.shape)\n",
    "        #print(output.shape)\n",
    "        loss = criterion(output, labels)\n",
    "        \n",
    "        optimizer.zero_grad()\n",
    "        loss.backward()\n",
    "        optimizer.step()\n",
    "        \n",
    "        "
   ]
  },
  {
   "cell_type": "code",
   "execution_count": 93,
   "id": "552d67c5",
   "metadata": {},
   "outputs": [],
   "source": [
    "datasets.CIFAR10?"
   ]
  },
  {
   "cell_type": "code",
   "execution_count": 95,
   "id": "444ac040",
   "metadata": {
    "scrolled": true
   },
   "outputs": [
    {
     "name": "stdout",
     "output_type": "stream",
     "text": [
      "Files already downloaded and verified\n"
     ]
    }
   ],
   "source": [
    "transform = transforms.Compose([  transforms.ToTensor(), transforms.Lambda(lambda x: x.to(device))])\n",
    "to_device_transform = transforms.Compose([\n",
    "    \n",
    "    transforms.Lambda(lambda x: x.to(device))])\n",
    "\n",
    "dataset = datasets.CIFAR10(root='data', train = False, download=True, transform = transform)#, target_transform=to_device_transform)\n",
    "#dataloader = data_loader(data_dir='./data', batch_size=32)\n",
    "test_loader = torch.utils.data.DataLoader(dataset, batch_size=32, shuffle=True)"
   ]
  },
  {
   "cell_type": "code",
   "execution_count": 96,
   "id": "bdb21c75",
   "metadata": {},
   "outputs": [
    {
     "name": "stdout",
     "output_type": "stream",
     "text": [
      "Accuracy of the network on the 10000 test images: 73.43 %\n"
     ]
    }
   ],
   "source": [
    "with torch.no_grad():\n",
    "    correct = 0\n",
    "    total = 0\n",
    "    for images, labels in test_loader:\n",
    "        images = images.to(device)\n",
    "        labels = labels.to(device)\n",
    "        outputs = model(images)\n",
    "        _, predicted = torch.max(outputs.data, 1)\n",
    "        total += labels.size(0)\n",
    "        correct += (predicted == labels).sum().item()\n",
    "        del images, labels, outputs\n",
    "\n",
    "    print('Accuracy of the network on the {} test images: {} %'.format(10000, 100 * correct / total))  "
   ]
  },
  {
   "cell_type": "code",
   "execution_count": null,
   "id": "903f9ac3",
   "metadata": {},
   "outputs": [],
   "source": []
  },
  {
   "cell_type": "code",
   "execution_count": null,
   "id": "9aadc057",
   "metadata": {},
   "outputs": [],
   "source": []
  }
 ],
 "metadata": {
  "kernelspec": {
   "display_name": "Python 3 (ipykernel)",
   "language": "python",
   "name": "python3"
  },
  "language_info": {
   "codemirror_mode": {
    "name": "ipython",
    "version": 3
   },
   "file_extension": ".py",
   "mimetype": "text/x-python",
   "name": "python",
   "nbconvert_exporter": "python",
   "pygments_lexer": "ipython3",
   "version": "3.11.1"
  }
 },
 "nbformat": 4,
 "nbformat_minor": 5
}
